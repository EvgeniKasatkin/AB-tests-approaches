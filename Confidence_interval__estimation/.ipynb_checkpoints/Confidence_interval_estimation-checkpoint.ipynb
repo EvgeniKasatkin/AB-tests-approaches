{
 "cells": [
  {
   "cell_type": "code",
   "execution_count": 103,
   "id": "0fe6d80d-1bac-4d55-af32-30c5a18ed0a4",
   "metadata": {},
   "outputs": [],
   "source": [
    "import numpy as np\n",
    "import pandas as pd\n",
    "import scipy.stats as stats\n",
    "import statsmodels.stats.api as sms\n",
    "import seaborn as sns\n",
    "from math import ceil\n",
    "from statsmodels.stats.proportion import proportions_ztest, proportion_confint"
   ]
  },
  {
   "cell_type": "code",
   "execution_count": 115,
   "id": "1b322f6e-4b22-43d8-b82f-da1698baa0e4",
   "metadata": {},
   "outputs": [
    {
     "name": "stdout",
     "output_type": "stream",
     "text": [
      "Baseline conversion:\n"
     ]
    },
    {
     "name": "stdin",
     "output_type": "stream",
     "text": [
      " 0.2\n"
     ]
    },
    {
     "name": "stdout",
     "output_type": "stream",
     "text": [
      "Power\n"
     ]
    },
    {
     "name": "stdin",
     "output_type": "stream",
     "text": [
      " 0.8\n"
     ]
    },
    {
     "name": "stdout",
     "output_type": "stream",
     "text": [
      "Significance alpha\n"
     ]
    },
    {
     "name": "stdin",
     "output_type": "stream",
     "text": [
      " 0.05\n"
     ]
    },
    {
     "name": "stdout",
     "output_type": "stream",
     "text": [
      "MDE:\n"
     ]
    },
    {
     "name": "stdin",
     "output_type": "stream",
     "text": [
      " 0.02\n"
     ]
    },
    {
     "name": "stdout",
     "output_type": "stream",
     "text": [
      "Ratio Test/Control\n"
     ]
    },
    {
     "name": "stdin",
     "output_type": "stream",
     "text": [
      " 1\n"
     ]
    }
   ],
   "source": [
    "print('Baseline conversion:') \n",
    "baseline_conversion = input()\n",
    "\n",
    "print('Power')\n",
    "power = input()\n",
    "\n",
    "print('Significance alpha')\n",
    "alpha = input()\n",
    "\n",
    "print('MDE:')\n",
    "mde = input()\n",
    "\n",
    "print('Ratio Test/Control')\n",
    "ratio = input()\n"
   ]
  },
  {
   "cell_type": "code",
   "execution_count": 117,
   "id": "f1335ba0-4dde-47bf-8991-19d3faef6fc3",
   "metadata": {},
   "outputs": [
    {
     "data": {
      "text/plain": [
       "6508"
      ]
     },
     "execution_count": 117,
     "metadata": {},
     "output_type": "execute_result"
    }
   ],
   "source": [
    "effect_size = sms.proportion_effectsize(float(baseline_conversion), float(baseline_conversion) + float(mde))\n",
    "sample_size = sms.NormalIndPower().solve_power(effect_size, power = float(power), alpha = float(alpha), ratio = float(ratio)) \n",
    "sample_size = ceil(sample_size)\n",
    "sample_size"
   ]
  },
  {
   "cell_type": "code",
   "execution_count": 119,
   "id": "e9d0c9b0-ed6f-4765-bd74-e688fa621932",
   "metadata": {},
   "outputs": [
    {
     "name": "stdout",
     "output_type": "stream",
     "text": [
      "Simulations test-conversions rate (baseline: 0.2, MDE: 0.02):\n"
     ]
    },
    {
     "name": "stdin",
     "output_type": "stream",
     "text": [
      " 0.21\n"
     ]
    },
    {
     "data": {
      "text/html": [
       "<div>\n",
       "<style scoped>\n",
       "    .dataframe tbody tr th:only-of-type {\n",
       "        vertical-align: middle;\n",
       "    }\n",
       "\n",
       "    .dataframe tbody tr th {\n",
       "        vertical-align: top;\n",
       "    }\n",
       "\n",
       "    .dataframe thead th {\n",
       "        text-align: right;\n",
       "    }\n",
       "</style>\n",
       "<table border=\"1\" class=\"dataframe\">\n",
       "  <thead>\n",
       "    <tr style=\"text-align: right;\">\n",
       "      <th></th>\n",
       "      <th>sample</th>\n",
       "      <th>results</th>\n",
       "    </tr>\n",
       "  </thead>\n",
       "  <tbody>\n",
       "    <tr>\n",
       "      <th>0</th>\n",
       "      <td>control</td>\n",
       "      <td>1</td>\n",
       "    </tr>\n",
       "    <tr>\n",
       "      <th>1</th>\n",
       "      <td>test</td>\n",
       "      <td>0</td>\n",
       "    </tr>\n",
       "    <tr>\n",
       "      <th>2</th>\n",
       "      <td>test</td>\n",
       "      <td>0</td>\n",
       "    </tr>\n",
       "    <tr>\n",
       "      <th>3</th>\n",
       "      <td>test</td>\n",
       "      <td>0</td>\n",
       "    </tr>\n",
       "    <tr>\n",
       "      <th>4</th>\n",
       "      <td>test</td>\n",
       "      <td>0</td>\n",
       "    </tr>\n",
       "    <tr>\n",
       "      <th>...</th>\n",
       "      <td>...</td>\n",
       "      <td>...</td>\n",
       "    </tr>\n",
       "    <tr>\n",
       "      <th>13011</th>\n",
       "      <td>control</td>\n",
       "      <td>0</td>\n",
       "    </tr>\n",
       "    <tr>\n",
       "      <th>13012</th>\n",
       "      <td>test</td>\n",
       "      <td>0</td>\n",
       "    </tr>\n",
       "    <tr>\n",
       "      <th>13013</th>\n",
       "      <td>control</td>\n",
       "      <td>1</td>\n",
       "    </tr>\n",
       "    <tr>\n",
       "      <th>13014</th>\n",
       "      <td>control</td>\n",
       "      <td>1</td>\n",
       "    </tr>\n",
       "    <tr>\n",
       "      <th>13015</th>\n",
       "      <td>test</td>\n",
       "      <td>0</td>\n",
       "    </tr>\n",
       "  </tbody>\n",
       "</table>\n",
       "<p>13016 rows × 2 columns</p>\n",
       "</div>"
      ],
      "text/plain": [
       "        sample  results\n",
       "0      control        1\n",
       "1         test        0\n",
       "2         test        0\n",
       "3         test        0\n",
       "4         test        0\n",
       "...        ...      ...\n",
       "13011  control        0\n",
       "13012     test        0\n",
       "13013  control        1\n",
       "13014  control        1\n",
       "13015     test        0\n",
       "\n",
       "[13016 rows x 2 columns]"
      ]
     },
     "execution_count": 119,
     "metadata": {},
     "output_type": "execute_result"
    }
   ],
   "source": [
    "#Here should be import result of test for github simulations have:\n",
    "print('Simulations test-conversions rate (baseline: {}, MDE: {}):'.format(baseline_conversion, mde))\n",
    "probably_test_conversion = input()\n",
    "\n",
    "control_group_conversions = list(np.random.binomial(1, float(baseline_conversion), int(sample_size)))\n",
    "test_group_conversions = list(np.random.binomial(1, float(probably_test_conversion), int(sample_size)))\n",
    "\n",
    "df_control = pd.DataFrame({'sample': int(sample_size)*['control'], \n",
    "                           'results': control_group_conversions})\n",
    "df_test = pd.DataFrame({'sample': int(sample_size)*['test'], \n",
    "                           'results': test_group_conversions})\n",
    "\n",
    "df_estimate = pd.concat([df_control, df_test])\n",
    "df_estimate = df_estimate.sample(frac=1).reset_index(drop=True)\n",
    "df_estimate\n"
   ]
  },
  {
   "cell_type": "code",
   "execution_count": 121,
   "id": "4c2f9c7b-fc93-4c4f-8aa3-60cd2d662875",
   "metadata": {},
   "outputs": [
    {
     "data": {
      "text/html": [
       "<div>\n",
       "<style scoped>\n",
       "    .dataframe tbody tr th:only-of-type {\n",
       "        vertical-align: middle;\n",
       "    }\n",
       "\n",
       "    .dataframe tbody tr th {\n",
       "        vertical-align: top;\n",
       "    }\n",
       "\n",
       "    .dataframe thead tr th {\n",
       "        text-align: left;\n",
       "    }\n",
       "\n",
       "    .dataframe thead tr:last-of-type th {\n",
       "        text-align: right;\n",
       "    }\n",
       "</style>\n",
       "<table border=\"1\" class=\"dataframe\">\n",
       "  <thead>\n",
       "    <tr>\n",
       "      <th></th>\n",
       "      <th colspan=\"3\" halign=\"left\">results</th>\n",
       "    </tr>\n",
       "    <tr>\n",
       "      <th></th>\n",
       "      <th>mean</th>\n",
       "      <th>std_dev</th>\n",
       "      <th>std_error</th>\n",
       "    </tr>\n",
       "    <tr>\n",
       "      <th>sample</th>\n",
       "      <th></th>\n",
       "      <th></th>\n",
       "      <th></th>\n",
       "    </tr>\n",
       "  </thead>\n",
       "  <tbody>\n",
       "    <tr>\n",
       "      <th>control</th>\n",
       "      <td>0.204364</td>\n",
       "      <td>0.403236</td>\n",
       "      <td>0.004998</td>\n",
       "    </tr>\n",
       "    <tr>\n",
       "      <th>test</th>\n",
       "      <td>0.217425</td>\n",
       "      <td>0.412494</td>\n",
       "      <td>0.005113</td>\n",
       "    </tr>\n",
       "  </tbody>\n",
       "</table>\n",
       "</div>"
      ],
      "text/plain": [
       "          results                    \n",
       "             mean   std_dev std_error\n",
       "sample                               \n",
       "control  0.204364  0.403236  0.004998\n",
       "test     0.217425  0.412494  0.005113"
      ]
     },
     "execution_count": 121,
     "metadata": {},
     "output_type": "execute_result"
    }
   ],
   "source": [
    "#Estimate Standart deviation and Standart Error: \n",
    "\n",
    "def std_dev(x):\n",
    "    return np.std(x, ddof=0)\n",
    "\n",
    "def std_error(x):\n",
    "    return stats.sem(x, ddof=0)\n",
    "\n",
    "\n",
    "conversions_df = df_estimate.groupby(['sample']).agg([np.mean, std_dev, std_error])\n",
    "conversions_df"
   ]
  },
  {
   "cell_type": "code",
   "execution_count": 123,
   "id": "75b39d2d-00a5-4c73-b4bd-50e09a22f30f",
   "metadata": {},
   "outputs": [
    {
     "name": "stdout",
     "output_type": "stream",
     "text": [
      "z statistic: -1.83\n",
      "p-value: 0.0677999969\n",
      "ci 95% for control group: [0.195, 0.214]\n",
      "ci 95% for test group: [0.207, 0.227]\n"
     ]
    }
   ],
   "source": [
    "num_control = int(sample_size)\n",
    "num_test = int(sample_size)\n",
    "\n",
    "conversions = [df_control['results'].sum(), df_test['results'].sum()]\n",
    "nobs = [num_control, num_test]\n",
    "z_stat, p_value = proportions_ztest(conversions, nobs = nobs)\n",
    "(lower_control, lower_test), (upper_control, upper_test) = proportion_confint(conversions, nobs=nobs)\n",
    "\n",
    "print(f'z statistic: {z_stat:.2f}')\n",
    "print(f'p-value: {p_value:.10f}')\n",
    "print(f'ci 95% for control group: [{lower_control:.3f}, {upper_control:.3f}]')\n",
    "print(f'ci 95% for test group: [{lower_test:.3f}, {upper_test:.3f}]')\n"
   ]
  },
  {
   "cell_type": "code",
   "execution_count": null,
   "id": "d1bd24ed-8e48-49ff-89ca-2b28c46e0b65",
   "metadata": {},
   "outputs": [],
   "source": []
  }
 ],
 "metadata": {
  "kernelspec": {
   "display_name": "Python 3 (ipykernel)",
   "language": "python",
   "name": "python3"
  },
  "language_info": {
   "codemirror_mode": {
    "name": "ipython",
    "version": 3
   },
   "file_extension": ".py",
   "mimetype": "text/x-python",
   "name": "python",
   "nbconvert_exporter": "python",
   "pygments_lexer": "ipython3",
   "version": "3.8.19"
  }
 },
 "nbformat": 4,
 "nbformat_minor": 5
}

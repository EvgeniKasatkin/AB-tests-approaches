{
 "cells": [
  {
   "cell_type": "code",
   "execution_count": 7,
   "id": "576e32df-988a-452b-a6a7-e30a40381b6b",
   "metadata": {},
   "outputs": [
    {
     "data": {
      "text/plain": [
       "0.006628385385661019"
      ]
     },
     "execution_count": 7,
     "metadata": {},
     "output_type": "execute_result"
    }
   ],
   "source": [
    "from scipy.stats import t\n",
    "import numpy as np\n",
    "#двухвыборочный t-тест: \n",
    "#H0: mu1 - mu2 = 0\n",
    "#H1: mu1 - mu2 != 0\n",
    "\n",
    "x_mean1 = 21\n",
    "x_mean2 = 19\n",
    "s1 = 6\n",
    "s2 = 4\n",
    "n1 = 100\n",
    "n2 = 100\n",
    "\n",
    "t_stat = ((x_mean1 - x_mean2) - 0)/(pow((pow(s1, 2)/n1 + pow(s2, 2)/n2 ), 0.5))\n",
    "df = (n1 - 1)*pow((pow(s1, 2) + pow(s2, 2)), 2)/(pow(s1,4) + pow(s2,4))  \n",
    "p_value = t.sf(np.abs(t_stat), n1-1)*2\n",
    "p_value"
   ]
  },
  {
   "cell_type": "code",
   "execution_count": 9,
   "id": "70cb1a6e-9021-4ee1-8023-d03535e61251",
   "metadata": {},
   "outputs": [
    {
     "data": {
      "text/plain": [
       "2.8176533981660215"
      ]
     },
     "execution_count": 9,
     "metadata": {},
     "output_type": "execute_result"
    }
   ],
   "source": [
    "#Z-тест пропорций по схеме Бернулли (сравнение долей наблюдений в 2 выборках):\n",
    "#variance = p*(1-p)\n",
    "\n",
    "p1 = 0.4\n",
    "p2 = 0.34\n",
    "n1 = 1053\n",
    "n2 = 995\n",
    "\n",
    "z_bernulli = (p1 - p2)/(pow( (p1*(1 - p1)/n1 + p2*(1-p2)/n2), 0.5))\n",
    "z_bernulli "
   ]
  },
  {
   "cell_type": "code",
   "execution_count": null,
   "id": "03bc2188-4c4d-45ee-8ac5-5d87c1bd4d3f",
   "metadata": {},
   "outputs": [],
   "source": []
  }
 ],
 "metadata": {
  "kernelspec": {
   "display_name": "Python 3 (ipykernel)",
   "language": "python",
   "name": "python3"
  },
  "language_info": {
   "codemirror_mode": {
    "name": "ipython",
    "version": 3
   },
   "file_extension": ".py",
   "mimetype": "text/x-python",
   "name": "python",
   "nbconvert_exporter": "python",
   "pygments_lexer": "ipython3",
   "version": "3.8.19"
  }
 },
 "nbformat": 4,
 "nbformat_minor": 5
}
